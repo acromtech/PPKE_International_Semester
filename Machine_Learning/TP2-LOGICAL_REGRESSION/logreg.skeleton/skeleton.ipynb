{
  "cells": [
    {
      "cell_type": "code",
      "execution_count": 1,
      "metadata": {
        "jukit_cell_id": "ADJWXBYEiy"
      },
      "outputs": [],
      "source": [
        "%matplotlib inline\n",
        "from typing import NamedTuple, Optional\n",
        "import numpy as np\n",
        "import matplotlib.pyplot as plt\n",
        "from matplotlib import animation\n",
        "from IPython.display import HTML\n",
        "from visualise import visualise"
      ]
    },
    {
      "cell_type": "markdown",
      "metadata": {
        "jukit_cell_id": "K32vXv4sDc"
      },
      "source": [
        "# Task 1"
      ]
    },
    {
      "cell_type": "markdown",
      "metadata": {},
      "source": [
        "* a. For the following values of 𝑥, please calculate the values of the logistic sigmoid: 0, −1, 1, −10, 10, −1000, 1000\n",
        "* b. Create a sigmoid function implementation that works for all the values above.\n",
        "* c. (Optional) Your implementation should avoid any overflows during calculation."
      ]
    },
    {
      "cell_type": "code",
      "execution_count": 32,
      "metadata": {},
      "outputs": [
        {
          "name": "stdout",
          "output_type": "stream",
          "text": [
            "Result for 0.0: \t 0.5 \t 0.5\n",
            "Result for -1.0: \t 0.269 \t 0.269\n",
            "Result for 1.0: \t 0.731 \t 0.731\n",
            "Result for -10.0: \t 4.54e-05 \t 4.54e-05\n",
            "Result for 10.0: \t 1.0 \t 1.0\n",
            "Result for -1e+03: \t 0.0 \t 0.0\n",
            "Result for 1e+03: \t 1.0 \t nan\n"
          ]
        },
        {
          "name": "stderr",
          "output_type": "stream",
          "text": [
            "C:\\Users\\user\\AppData\\Local\\Temp\\ipykernel_9960\\2916533470.py:4: RuntimeWarning: overflow encountered in exp\n",
            "  sigma1.append(1/(1+np.exp(-h[i])))\n",
            "C:\\Users\\user\\AppData\\Local\\Temp\\ipykernel_9960\\2916533470.py:5: RuntimeWarning: overflow encountered in exp\n",
            "  sigma2.append(np.exp(h[i])/(1+np.exp(h[i])))\n",
            "C:\\Users\\user\\AppData\\Local\\Temp\\ipykernel_9960\\2916533470.py:5: RuntimeWarning: invalid value encountered in scalar divide\n",
            "  sigma2.append(np.exp(h[i])/(1+np.exp(h[i])))\n"
          ]
        }
      ],
      "source": [
        "def sigmoid(h):\n",
        "    sigma1, sigma2 = [], []\n",
        "    for i in range (len(h)):\n",
        "        sigma1.append(1/(1+np.exp(-h[i])))\n",
        "        sigma2.append(np.exp(h[i])/(1+np.exp(h[i])))\n",
        "    return sigma1, sigma2\n",
        "\n",
        "sigmoid_test_values = np.array([0., -1, 1, -10, 10, -1000, 1000])\n",
        "sigma1,sigma2 = sigmoid(sigmoid_test_values)\n",
        "for i in range(len(sigmoid_test_values)):\n",
        "    print(f\"Result for {sigmoid_test_values[i]:0.3}: \\t {sigma1[i]:0.3} \\t {sigma2[i]:0.3}\")"
      ]
    },
    {
      "cell_type": "markdown",
      "metadata": {},
      "source": [
        "The error is due to a numerical overflow when calculating the exponential of very large or very negative values of `h`. Specifically, for extremely large values of `h`, the exponential of these values exceeds the numerical range supported by the system, leading to an overflow error.\n",
        "\n",
        "To avoid these errors, we can utilize a numerically stable version of the sigmoid function by exploiting the mathematical identity:\n",
        "\n",
        "$$\n",
        "\\sigma(x) = \\frac{1}{1 + e^{-x}} = \\frac{e^x}{e^x + 1}\n",
        "$$\n",
        "\n",
        "By using this identity, we can prevent overflow errors by computing the exponential of smaller values of `h` rather than calculating the exponential of very large values. Here's what I corrected:\n",
        "\n",
        "This implementation avoids overflow errors by computing the exponential of `h` or `-h` depending on the value of `h`. This ensures that the exponential is computed for numerically smaller values, thus preventing overflow errors."
      ]
    },
    {
      "cell_type": "code",
      "execution_count": 33,
      "metadata": {
        "jukit_cell_id": "8a2Ubn59Tz"
      },
      "outputs": [
        {
          "name": "stdout",
          "output_type": "stream",
          "text": [
            "Result for 0.0: \t 0.5\n",
            "Result for -1.0: \t 0.269\n",
            "Result for 1.0: \t 0.731\n",
            "Result for -10.0: \t 4.54e-05\n",
            "Result for 10.0: \t 1.0\n",
            "Result for -1e+03: \t 0.0\n",
            "Result for 1e+03: \t 1.0\n"
          ]
        }
      ],
      "source": [
        "def sigmoid(h):\n",
        "    sigma = []\n",
        "    for i in range(len(h)):\n",
        "        if h[i] >= 0:\n",
        "            exp_neg_h = np.exp(-h[i])\n",
        "            sigma.append(1 / (1 + exp_neg_h))\n",
        "        else:\n",
        "            exp_h = np.exp(h[i])\n",
        "            sigma.append(exp_h / (1 + exp_h))\n",
        "    return sigma\n",
        "\n",
        "sigmoid_test_values = np.array([0., -1, 1, -10, 10, -1000, 1000])\n",
        "sigma = sigmoid(sigmoid_test_values)\n",
        "for i in range(len(sigmoid_test_values)):\n",
        "    print(f\"Result for {sigmoid_test_values[i]:0.3}: \\t {sigma[i]:0.3}\")"
      ]
    },
    {
      "cell_type": "markdown",
      "metadata": {
        "jukit_cell_id": "eVt5tyYTUO"
      },
      "source": [
        "And now try it on the given values:"
      ]
    },
    {
      "cell_type": "markdown",
      "metadata": {
        "jukit_cell_id": "vrrqmaNlLu"
      },
      "source": [
        "# Logistic regression"
      ]
    },
    {
      "cell_type": "code",
      "execution_count": 59,
      "metadata": {},
      "outputs": [
        {
          "name": "stdout",
          "output_type": "stream",
          "text": [
            "0.272027796366954\n"
          ]
        }
      ],
      "source": [
        "data = np.load(\"../logreg.data/pla.npz\")\n",
        "X_train, Y_train, X_test, Y_test = data['X'], data['Y'], data['X_test'], data['Y_test']\n",
        "\n",
        "vect = sigmoid(X_train[0])\n",
        "pred = vect[0]\n",
        "for i in range (len(vect)-1):\n",
        "    pred = pred * (1-vect[i+1])\n",
        "print(pred)"
      ]
    },
    {
      "cell_type": "code",
      "execution_count": null,
      "metadata": {
        "jukit_cell_id": "KxAo6jXVYR"
      },
      "outputs": [],
      "source": [
        "class LogisticRegression:\n",
        "    \"\"\"\n",
        "    Implements the logistic regression algorithm (binary classification model)\n",
        "    \"\"\"\n",
        "\n",
        "    def predict(self, X: np.array) -> np.array:\n",
        "        \"\"\"\n",
        "        Predicts class for each input in X\n",
        "        \"\"\"\n",
        "        # TODO\n",
        "\n",
        "    def predict_proba(self, X: np.array) -> np.array:\n",
        "        \"\"\"\n",
        "        Predicts positive class probabilities for each input in X\n",
        "        \"\"\"\n",
        "        # TODO\n",
        "\n",
        "    def accuracy(self, X: np.array, Y: np.array) -> np.array:\n",
        "        \"\"\"\n",
        "        Calculates the accuracy on the given dataset\n",
        "        \"\"\"\n",
        "        np.mean(X.)\n",
        "\n",
        "    def crossentropy_error(self, X: np.array, Y: np.array) -> np.array:\n",
        "        \"\"\"\n",
        "        Calculates the (mean) cross-entropy error on the given dataset\n",
        "        \"\"\"\n",
        "        \n",
        "        return np.log(1+np.exp(-Y*w.transpose*X)) # course formula\n",
        "\n",
        "    def _error_gradient(self, X: np.array, Y: np.array,\n",
        "                        w: np.array) -> np.array:\n",
        "        \"\"\"\n",
        "        Calculate the (mean) gradient of the cross-entropy error (with respect\n",
        "        to the parameters)\n",
        "        \"\"\"\n",
        "        # TODO\n",
        "\n",
        "    def train(self,\n",
        "              X: np.array,\n",
        "              Y: np.array,\n",
        "              *,\n",
        "              max_iteration: int = 100,\n",
        "              batch_size: Optional[int] = None,\n",
        "              step_size: float = 0.5,\n",
        "              plot_every: int = 1,\n",
        "              seed: int = 1):\n",
        "        \"\"\"\n",
        "        Train the model on the given dataset\n",
        "        \"\"\"\n",
        "        # TODO\n",
        "\n",
        "\n",
        "data = np.load(\"../logreg.data/pla.npz\")\n"
      ]
    }
  ],
  "metadata": {
    "anaconda-cloud": {},
    "kernelspec": {
      "display_name": "python",
      "language": "python",
      "name": "python3"
    },
    "language_info": {
      "codemirror_mode": {
        "name": "ipython",
        "version": 3
      },
      "file_extension": ".py",
      "mimetype": "text/x-python",
      "name": "python",
      "nbconvert_exporter": "python",
      "pygments_lexer": "ipython3",
      "version": "3.11.8"
    }
  },
  "nbformat": 4,
  "nbformat_minor": 4
}

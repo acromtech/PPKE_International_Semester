{
  "cells": [
    {
      "cell_type": "code",
      "execution_count": 37,
      "metadata": {
        "jukit_cell_id": "v65PgXP3fh"
      },
      "outputs": [
        {
          "ename": "ImportError",
          "evalue": "cannot import name 'visualise' from 'visualise' (C:\\Users\\user\\AppData\\Local\\Packages\\PythonSoftwareFoundation.Python.3.11_qbz5n2kfra8p0\\LocalCache\\local-packages\\Python311\\site-packages\\visualise\\__init__.py)",
          "output_type": "error",
          "traceback": [
            "\u001b[1;31m---------------------------------------------------------------------------\u001b[0m",
            "\u001b[1;31mImportError\u001b[0m                               Traceback (most recent call last)",
            "Cell \u001b[1;32mIn[37], line 6\u001b[0m\n\u001b[0;32m      4\u001b[0m \u001b[38;5;28;01mimport\u001b[39;00m \u001b[38;5;21;01mmatplotlib\u001b[39;00m\u001b[38;5;21;01m.\u001b[39;00m\u001b[38;5;21;01manimation\u001b[39;00m \u001b[38;5;28;01mas\u001b[39;00m \u001b[38;5;21;01manimation\u001b[39;00m\n\u001b[0;32m      5\u001b[0m \u001b[38;5;28;01mfrom\u001b[39;00m \u001b[38;5;21;01mtyping\u001b[39;00m \u001b[38;5;28;01mimport\u001b[39;00m Optional\n\u001b[1;32m----> 6\u001b[0m \u001b[38;5;28;01mfrom\u001b[39;00m \u001b[38;5;21;01mvisualise\u001b[39;00m \u001b[38;5;28;01mimport\u001b[39;00m visualise\n",
            "\u001b[1;31mImportError\u001b[0m: cannot import name 'visualise' from 'visualise' (C:\\Users\\user\\AppData\\Local\\Packages\\PythonSoftwareFoundation.Python.3.11_qbz5n2kfra8p0\\LocalCache\\local-packages\\Python311\\site-packages\\visualise\\__init__.py)"
          ]
        }
      ],
      "source": [
        "%matplotlib inline\n",
        "import numpy as np\n",
        "import matplotlib.pyplot as plt\n",
        "import matplotlib.animation as animation\n",
        "from typing import Optional\n",
        "from visualise import visualise"
      ]
    },
    {
      "cell_type": "markdown",
      "metadata": {
        "jukit_cell_id": "cqnGf10cDn"
      },
      "source": [
        "# Task 1"
      ]
    },
    {
      "cell_type": "markdown",
      "metadata": {
        "jukit_cell_id": "7sLumyYgAE"
      },
      "source": [
        "## Task 1.a"
      ]
    },
    {
      "cell_type": "markdown",
      "metadata": {},
      "source": [
        "The main objective is to evaluate the performance of linear regression for this specific dataset by measuring the prediction error using MSE, both for the training and test datasets.\n",
        "\n",
        "1. Load the data from the file `linear.npz`, containing the training (`X_train`, `Y_train`) and test (`X_test`, `Y_test`) datasets.\n",
        "2. Compute the estimated weights for the training data using the linear regression formula: $(X_{\\text{train}}^T X_{\\text{train}})^{-1} X_{\\text{train}}^T Y_{\\text{train}}$.\n",
        "3. Calculate the estimated weights for the test data using the same formula.\n",
        "4. Use the estimated weights to predict output values for both the training and test data.\n",
        "5. Compute the Mean Squared Error (MSE) for both the training and test data by comparing the predicted values to the actual values.\n",
        "6. Print out the estimated weight vector for the training data, the estimated weight vector for the test data, as well as the MSE for both the training and test data."
      ]
    },
    {
      "cell_type": "code",
      "execution_count": 8,
      "metadata": {
        "jukit_cell_id": "auhvZJtX9L"
      },
      "outputs": [
        {
          "name": "stdout",
          "output_type": "stream",
          "text": [
            "Estimated weight vector: [ 0.12573022 -0.13210486  0.64042265  0.10490012 -0.53566937  0.36159505\n",
            "  1.30400005  0.94708096 -0.70373524 -1.26542147]\n",
            "Reference weight vector: [ 0.12573022 -0.13210486  0.64042265  0.10490012 -0.53566937  0.36159505\n",
            "  1.30400005  0.94708096 -0.70373524 -1.26542147]\n",
            "Mean squared error (train): 2.627222358748058e-28\n",
            "Mean squared error (test): 2.504012146113851e-28\n"
          ]
        }
      ],
      "source": [
        "data = np.load('./lin_reg.data/linear.npz')\n",
        "X_train, Y_train, X_test, Y_test = data['X'], data['Y'], data['X_test'], data['Y_test']\n",
        "\n",
        "# Calcule le poids des données entrainées\n",
        "X_transpose_train = np.transpose(X_train)\n",
        "estimated_weights_train = np.linalg.inv(X_transpose_train @ X_train) @ X_transpose_train @ Y_train\n",
        "\n",
        "# Calcule le poids des données test\n",
        "X_transpose_test = np.transpose(X_test)\n",
        "estimated_weights_test = np.linalg.inv(X_transpose_test @ X_test) @ X_transpose_test @ Y_test\n",
        "\n",
        "# Pour trouver le nouvel Y\n",
        "Y_train_pred = X_train @ estimated_weights_train\n",
        "Y_test_pred = X_test @ estimated_weights_test\n",
        "\n",
        "# Calcule la moyenne des moindres carrés\n",
        "mse_train = np.mean((Y_train - Y_train_pred) ** 2)\n",
        "mse_test = np.mean((Y_test - Y_test_pred) ** 2)\n",
        "\n",
        "# Affiche les données\n",
        "print(\"Estimated weight vector:\", estimated_weights_train)\n",
        "print(\"Reference weight vector:\", estimated_weights_test)\n",
        "print(\"Mean squared error (train):\", mse_train)\n",
        "print(\"Mean squared error (test):\", mse_test)"
      ]
    },
    {
      "cell_type": "markdown",
      "metadata": {
        "jukit_cell_id": "Urroi5MK12"
      },
      "source": [
        "## Task 1.b"
      ]
    },
    {
      "cell_type": "markdown",
      "metadata": {},
      "source": [
        "The main objective is to assess the performance of linear regression considering a non-zero bias term for this specific dataset by measuring the prediction error using MSE, both for the training and test datasets.\n",
        "\n",
        "1. Load the data from the file `affine1.npz`, containing the training (`X_train`, `Y_train`) and test (`X_test`, `Y_test`) datasets.\n",
        "2. Add a column of ones to the feature matrix `X_train` and `X_test` to include the bias term.\n",
        "3. Compute the estimated weights for the training data using the linear regression formula: $(X_{\\text{train}_{\\text{bias}}}^T X_{\\text{train}_{\\text{bias}}})^{-1} X_{\\text{train}_{\\text{bias}}}^T Y_{\\text{train}}$, where $X_{\\text{train}_{\\text{bias}}}$ includes the bias term.\n",
        "4. Calculate the estimated weights for the test data using the same formula applied to $X_{\\text{test}_{\\text{bias}}}$.\n",
        "5. Use the estimated weights to predict output values for both the training and test data.\n",
        "6. Compute the Mean Squared Error (MSE) for both the training and test data by comparing the predicted values to the actual values.\n",
        "7. Print out the estimated weight vector for the training data, the estimated weight vector for the test data, as well as the MSE for both the training and test data."
      ]
    },
    {
      "cell_type": "code",
      "execution_count": 3,
      "metadata": {
        "jukit_cell_id": "HZ9BBjjT73"
      },
      "outputs": [
        {
          "name": "stdout",
          "output_type": "stream",
          "text": [
            "Estimated weight vector : [ 0.34558419  0.82161814  0.33043708 -1.30315723  0.90535587  0.44637457\n",
            " -0.53695324  0.5811181   0.3645724   0.2941325   0.50702622]\n",
            "Reference weight vector : [ 0.34558419  0.82161814  0.33043708 -1.30315723  0.90535587  0.44637457\n",
            " -0.53695324  0.5811181   0.3645724   0.2941325   0.50702622]\n",
            "Mean squared error (train) : 1.6980033769655973e-27\n",
            "Mean squared error (test) : 2.8709014923708284e-27\n"
          ]
        }
      ],
      "source": [
        "data = np.load('./lin_reg.data/affine1.npz')\n",
        "X_train, Y_train, X_test, Y_test = data['X'], data['Y'], data['X_test'], data['Y_test']\n",
        "\n",
        "X_train_bias = np.concatenate((X_train, np.ones((X_train.shape[0], 1))), axis=1)\n",
        "X_test_bias = np.concatenate((X_test, np.ones((X_test.shape[0], 1))), axis=1)\n",
        "\n",
        "weights_train = np.linalg.inv(X_train_bias.T @ X_train_bias) @ X_train_bias.T @ Y_train\n",
        "weights_test = np.linalg.inv(X_test_bias.T @ X_test_bias) @ X_test_bias.T @ Y_test\n",
        "\n",
        "Y_train_pred = X_train_bias @ weights_train\n",
        "Y_test_pred = X_test_bias @ weights_test\n",
        "\n",
        "mse_train = np.mean((Y_train - Y_train_pred) ** 2)\n",
        "mse_test = np.mean((Y_test - Y_test_pred) ** 2)\n",
        "\n",
        "print(\"Estimated weight vector :\", weights_train)\n",
        "print(\"Reference weight vector :\", weights_test)\n",
        "print(\"Mean squared error (train) :\", mse_train)\n",
        "print(\"Mean squared error (test) :\", mse_test)"
      ]
    },
    {
      "cell_type": "markdown",
      "metadata": {
        "jukit_cell_id": "qzvi6Irab5"
      },
      "source": [
        "## Task 1.c"
      ]
    },
    {
      "cell_type": "markdown",
      "metadata": {},
      "source": [
        "The provided code conducts linear regression to find the weights that generated the dataset in the file `affine2.npz`. This dataset includes noise. Additionally, the code adds small perturbations to the weight vector and bias found from the regression, then compares the new Mean Squared Error (MSE) for both the training and test data.\n",
        "\n",
        "1. Load the data from the file `affine2.npz`, containing the training (`X_train`, `Y_train`) and test (`X_test`, `Y_test`) datasets.\n",
        "2. Add a column of ones to the feature matrix `X_train` and `X_test` to include the bias term.\n",
        "3. Compute the estimated weights for the training data using linear regression.\n",
        "4. Calculate the estimated weights for the test data using linear regression.\n",
        "5. Introduce small perturbations to both the weight vector and the bias term.\n",
        "6. Predict output values for both the training and test data using the perturbed weights.\n",
        "7. Compute the Mean Squared Error (MSE) for both the training and test data using the predictions with perturbed weights.\n",
        "8. Print out the estimated weight vector for the training data, the estimated weight vector for the test data, as well as the MSE for both the training and test data with the perturbed weights."
      ]
    },
    {
      "cell_type": "code",
      "execution_count": 4,
      "metadata": {
        "jukit_cell_id": "0v7aaoqqRr"
      },
      "outputs": [
        {
          "name": "stdout",
          "output_type": "stream",
          "text": [
            "Estimated weight vector : [ 0.190953   -0.52262686 -0.41115621 -2.44095349  1.80102546  1.14394605\n",
            " -0.32649094  0.76876765  0.28275398 -0.55621223  2.00070245]\n",
            "Reference weight vector : [ 0.18901442 -0.52097092 -0.41346081 -2.44307407  1.80372162  1.14432999\n",
            " -0.32644544  0.77399663  0.28039932 -0.5581744   2.00673715]\n",
            "Mean squared error (train) : 0.03789887622075304\n",
            "Mean squared error (test) : 0.03448114442654987\n"
          ]
        }
      ],
      "source": [
        "data = np.load('./lin_reg.data/affine2.npz')\n",
        "X_train, Y_train, X_test, Y_test = data['X'], data['Y'], data['X_test'], data['Y_test']\n",
        "\n",
        "X_train_bias = np.concatenate((X_train, np.ones((X_train.shape[0], 1))), axis=1)\n",
        "X_test_bias = np.concatenate((X_test, np.ones((X_test.shape[0], 1))), axis=1)\n",
        "\n",
        "weights_train = np.linalg.inv(X_train_bias.T @ X_train_bias) @ X_train_bias.T @ Y_train\n",
        "weights_test = np.linalg.inv(X_test_bias.T @ X_test_bias) @ X_test_bias.T @ Y_test\n",
        "\n",
        "epsilon = 0.01  # Small perturbation\n",
        "perturbations = np.random.normal(0, epsilon, size=weights_train.shape)\n",
        "weights_train_perturbed = weights_train + perturbations\n",
        "bias_perturbation = np.random.normal(0, epsilon)\n",
        "weights_train_perturbed[-1] += bias_perturbation\n",
        "\n",
        "Y_train_pred_perturbed = X_train_bias @ weights_train_perturbed\n",
        "Y_test_pred_perturbed = X_test_bias @ weights_train_perturbed\n",
        "\n",
        "mse_train_perturbed = np.mean((Y_train - Y_train_pred_perturbed) ** 2)\n",
        "mse_test_perturbed = np.mean((Y_test - Y_test_pred_perturbed) ** 2)\n",
        "\n",
        "print(\"Estimated weight vector :\", weights_train)\n",
        "print(\"Reference weight vector :\", weights_test)\n",
        "print(\"Mean squared error (train) :\", mse_train_perturbed)\n",
        "print(\"Mean squared error (test) :\", mse_test_perturbed)"
      ]
    },
    {
      "cell_type": "markdown",
      "metadata": {
        "jukit_cell_id": "atfDmuLS9E"
      },
      "source": [
        "## Task 1.d"
      ]
    },
    {
      "cell_type": "markdown",
      "metadata": {},
      "source": [
        "The provided code conducts linear regression using Ridge Regression to find the weights that generated the dataset in the file `rank.npz`. Here's a summary of what the code does and its purpose:\n",
        "\n",
        "1. Load the data from the file `rank.npz`, containing the training (`X_train`, `Y_train`) and test (`X_test`, `Y_test`) datasets.\n",
        "2. Add a column of ones to the feature matrix `X_train` and `X_test` to include the bias term. Then, remove the first column to account for the \"weirdness\" of the data mentioned in the prompt.\n",
        "3. Calculate the weights using Ridge Regression, which introduces regularization to handle potential rank deficiencies or singularities in the design matrix $X$.\n",
        "4. Use the estimated weights to predict output values for both the training and test data.\n",
        "5. Compute the Mean Squared Error (MSE) for both the training and test data by comparing the predicted values to the actual values.\n",
        "6. Print out the weights for the training and test data, as well as the MSE for both.\n",
        "\n",
        "The main objective is to assess the performance of linear regression with Ridge Regression regularization on the dataset, especially considering the potential issues with the design matrix $X$ mentioned in the prompt. The regularization parameter ($\\alpha$) is set to 0.1, but it can be adjusted based on the specific requirements of the problem or the characteristics of the dataset."
      ]
    },
    {
      "cell_type": "code",
      "execution_count": 5,
      "metadata": {
        "jukit_cell_id": "7j90SspllD"
      },
      "outputs": [
        {
          "name": "stdout",
          "output_type": "stream",
          "text": [
            "Weights (training data) with Ridge Regression: [-0.51663197  2.45726012  0.00956116]\n",
            "Weights (test data) with Ridge Regression: [-5.15170877e-01  2.45844728e+00  2.02656335e-03]\n",
            "Mean Squared Error (training data): 2.169118341862612e-05\n",
            "Mean Squared Error (test data): 2.3599245861156006e-06\n"
          ]
        }
      ],
      "source": [
        "data = np.load('./lin_reg.data/rank.npz')\n",
        "X_train, Y_train, X_test, Y_test = data['X'], data['Y'], data['X_test'], data['Y_test']\n",
        "\n",
        "X_train_bias = np.concatenate((X_train, np.ones((X_train.shape[0], 1))), axis=1)[:,1:]\n",
        "X_test_bias = np.concatenate((X_test, np.ones((X_test.shape[0], 1))), axis=1)[:,1:]\n",
        "\n",
        "# Calculate weights using Ridge Regression\n",
        "alpha = 0.1  # Regularization parameter\n",
        "I = np.eye(X_train_bias.shape[1])  # Identity matrix\n",
        "weights_train = np.linalg.inv(X_train_bias.T @ X_train_bias + alpha * I) @ X_train_bias.T @ Y_train\n",
        "weights_test = np.linalg.inv(X_test_bias.T @ X_test_bias + alpha * I) @ X_test_bias.T @ Y_test\n",
        "\n",
        "Y_train_pred = X_train_bias @ weights_train\n",
        "Y_test_pred = X_test_bias @ weights_test\n",
        "\n",
        "mse_train = np.mean((Y_train - Y_train_pred) ** 2)\n",
        "mse_test = np.mean((Y_test - Y_test_pred) ** 2)\n",
        "\n",
        "print(\"Weights (training data) with Ridge Regression:\", weights_train)\n",
        "print(\"Weights (test data) with Ridge Regression:\", weights_test)\n",
        "print(\"Mean Squared Error (training data):\", mse_train)\n",
        "print(\"Mean Squared Error (test data):\", mse_test)"
      ]
    },
    {
      "cell_type": "markdown",
      "metadata": {
        "jukit_cell_id": "hVjain2nn0"
      },
      "source": [
        "# Task 1.e"
      ]
    },
    {
      "cell_type": "markdown",
      "metadata": {},
      "source": [
        "The provided code conducts linear regression to find the weights that generated the dataset in the file `zero.npz`. Here's a summary of what the code does and its purpose:\n",
        "\n",
        "1. Load the data from the file `zero.npz`, containing the training (`X_train`, `Y_train`) and test (`X_test`, `Y_test`) datasets.\n",
        "2. Add a column of ones to the feature matrix `X_train` and `X_test` to include the bias term.\n",
        "3. Compute the estimated weights for the training data using linear regression.\n",
        "4. Use the estimated weights to predict output values for both the training and test data.\n",
        "5. Compute the Mean Squared Error (MSE) for both the training and test data by comparing the predicted values to the actual values.\n",
        "6. Print out the estimated weight vector for the training data, as well as the MSE for both training and test data.\n",
        "\n",
        "Regarding the significance of coefficients and the high error:\n",
        "\n",
        "1. Some coefficients might be negligible if their corresponding features have little influence on the output. This could happen due to either multicollinearity among features or the features being irrelevant to predicting the output.\n",
        "2. The error might be large due to several reasons:\n",
        "   - The features might not have a strong linear relationship with the output, leading to poor performance of linear regression.\n",
        "   - There could be outliers or noise in the data, making it challenging for the linear regression model to accurately capture the underlying patterns.\n",
        "   - Overfitting or underfitting of the model may occur if the model complexity does not match the complexity of the data.\n",
        "\n",
        "To determine whether there is output noise in the dataset, we need to examine the residuals (difference between actual and predicted values) and look for patterns or randomness. Additionally, analyzing the significance of coefficients and conducting hypothesis testing could provide insights into the relevance of features.\n",
        "\n",
        "Lastly, the provided code also plots the outputs using a 3D scatter plot to visualize the data and predictions for both training and test datasets. This visualization helps in understanding the relationships between features and the output."
      ]
    },
    {
      "cell_type": "code",
      "execution_count": 6,
      "metadata": {
        "jukit_cell_id": "zhYSPbHXAE"
      },
      "outputs": [
        {
          "name": "stdout",
          "output_type": "stream",
          "text": [
            "Estimated weight vector: [ 9.98513975e+00  2.42672490e-03 -4.75133220e-02  3.25770239e-01]\n",
            "Mean squared error (train): 310.5697311190517\n",
            "Mean squared error (test): 253.5241169079045\n"
          ]
        }
      ],
      "source": [
        "data = np.load('./lin_reg.data/zero.npz')\n",
        "X_train, Y_train, X_test, Y_test = data['X'], data['Y'], data['X_test'], data['Y_test']\n",
        "\n",
        "X_train_bias = np.concatenate((X_train, np.ones((X_train.shape[0], 1))), axis=1)\n",
        "X_test_bias = np.concatenate((X_test, np.ones((X_test.shape[0], 1))), axis=1)\n",
        "\n",
        "weights_train = np.linalg.inv(X_train_bias.T @ X_train_bias) @ X_train_bias.T @ Y_train\n",
        "\n",
        "Y_train_pred = X_train_bias @ weights_train\n",
        "\n",
        "mse_train = np.mean((Y_train - Y_train_pred) ** 2)\n",
        "\n",
        "Y_test_pred = X_test_bias @ weights_train\n",
        "mse_test = np.mean((Y_test - Y_test_pred) ** 2)\n",
        "\n",
        "print(\"Estimated weight vector:\", weights_train)\n",
        "print(\"Mean squared error (train):\", mse_train)\n",
        "print(\"Mean squared error (test):\", mse_test)"
      ]
    },
    {
      "cell_type": "code",
      "execution_count": 7,
      "metadata": {
        "jukit_cell_id": "9vNpYZKQjM"
      },
      "outputs": [
        {
          "data": {
            "image/png": "[encoded data removed]",
            "text/plain": [
              "<Figure size 640x480 with 2 Axes>"
            ]
          },
          "metadata": {},
          "output_type": "display_data"
        }
      ],
      "source": [
        "fig, (ax1, ax2) = plt.subplots(1, 2, subplot_kw={'projection': '3d'})\n",
        "ax1.scatter(X_train[:, 0], X_train[:, 1], Y_train, c='blue', label='train')\n",
        "ax1.scatter(X_test[:, 0], X_test[:, 1], Y_test, c='green', label='test')\n",
        "ax1.set_xlabel(f'$X_{0}$')\n",
        "ax1.set_ylabel(f'$X_{1}$')\n",
        "ax1.set_zlabel('$Y$')\n",
        "ax1.legend()\n",
        "ax2.scatter(X_train[:, 0], X_train[:, 2], Y_train, c='blue', label='train')\n",
        "ax2.scatter(X_test[:, 0], X_test[:, 2], Y_test, c='green', label='test')\n",
        "ax2.legend()\n",
        "ax2.set_xlabel(f'$X_{0}$')\n",
        "ax2.set_ylabel(f'$X_{2}$')\n",
        "ax2.set_zlabel('$Y$')\n",
        "plt.show()"
      ]
    },
    {
      "cell_type": "markdown",
      "metadata": {
        "jukit_cell_id": "H5uBHN1V7b"
      },
      "source": [
        "# Task 2"
      ]
    },
    {
      "cell_type": "markdown",
      "metadata": {},
      "source": [
        "**Hoeffding equation. You are testing a hypothesis on 43 samples, sampled from the data distribution. After measurement, you find your error to be 0.1. Your boss told you that she will tolerate at most an error of 0.2 in production (averaged for the long run). Can you bound the probability that the error will be larger (and she will be unhappy with you)**\n",
        "\n",
        "The Hoeffding Inequality is used to bound the probability that the deviation between the sample mean and the true mean of a random variable is larger than a certain value. Given a set of independent and identically distributed (i.i.d) random variables $ X_1, X_2, ..., X_N $, the Hoeffding Inequality states that:\n",
        "\n",
        "$$ P(|\\nu - \\mu| \\geq \\epsilon) \\leq 2e^{-2N\\epsilon^2} $$\n",
        "\n",
        "Where:\n",
        "- $ \\nu $ is the sample mean,\n",
        "- $ \\mu $ is the true mean,\n",
        "- $ N $ is the number of samples,\n",
        "- $ \\epsilon $ is the deviation we're interested in,\n",
        "\n",
        "In this case, $ N = 43 $ and $ \\epsilon = 0.2 $. We want to find the probability that $ |\\nu - \\mu| \\geq 0.2 $.\n",
        "\n",
        "We can calculate this probability using the Hoeffding Inequality."
      ]
    },
    {
      "cell_type": "code",
      "execution_count": 39,
      "metadata": {},
      "outputs": [
        {
          "name": "stdout",
          "output_type": "stream",
          "text": [
            "La probabilité que l'erreur dépasse 0.2 est: 0.06412937065572148\n"
          ]
        }
      ],
      "source": [
        "epsilon = 0.2\n",
        "N = 43\n",
        "probabilite = 2 * np.exp(-2 * epsilon**2 * N)\n",
        "print(\"La probabilité que l'erreur dépasse 0.2 est:\", probabilite)"
      ]
    },
    {
      "cell_type": "markdown",
      "metadata": {},
      "source": [
        "The output -> 0.06412937065572148 \n",
        "\n",
        "and $0.06412937065572148 < 0.2$ so the boss will be happy !"
      ]
    },
    {
      "cell_type": "markdown",
      "metadata": {},
      "source": [
        "# Task 3"
      ]
    },
    {
      "cell_type": "markdown",
      "metadata": {},
      "source": [
        "**Implement the Perceptron Learning Algorithm.**\n",
        "\n",
        "* a. Find a linear separator that separates the two classes (−1 and 1) in the pla.npz dataset.\n",
        "\n",
        "* b. Plot the training data and the separator in each iteration. (You can use the code in visualise.py.) A simple way to do nonblocking plot in Matplotlib is:\n",
        "\n",
        "```py\n",
        "import matlotlib.pyplot as plt\n",
        "from visualise import visualise\n",
        "fig, ax = None, None\n",
        "while not done:\n",
        "w = calculate()\n",
        "fig, ax = visualise(w, X, Y, block=False, fig=fig, ax=ax)\n",
        "plt.pause(0.5)\n",
        "```\n",
        "\n",
        "* c. Repeat a) and b) on pocket.npz as well. How did it perform? Can you do better with a small modification?\n",
        "\n",
        "____________\n",
        "\n",
        "The Perceptron Learning Algorithm is used to find a linear separator that separates two classes. Given a dataset with features $ X $ and labels $ Y $, the PLA tries to find weights $ w $ such that $ w^T X $ classifies the data points correctly."
      ]
    },
    {
      "cell_type": "markdown",
      "metadata": {},
      "source": [
        "\n",
        "The following code implements the Perceptron Learning Algorithm (PLA) **to find a line (or hyperplane) that separates two groups of points in a dataset**.\n",
        "\n",
        "* **Initialization of Weights**: The model weights are initialized randomly to define the initial decision line.\n",
        "\n",
        "* **Iteration Loop**: The algorithm performs a certain number of iterations defined by max_iteration. At each iteration, it attempts to improve the separation between the two groups of points.\n",
        "\n",
        "* **Calculation of Accuracy**: At each iteration, the algorithm calculates the current accuracy of the obtained separation by comparing the model's predictions with the actual labels of the points.\n",
        "\n",
        "* **Selection of Misclassified Sample**: If the accuracy is not perfect (i.e., there are misclassified points), the algorithm selects one of these points for weight update.\n",
        "\n",
        "* **Weight Update**: The model weights are updated based on the selected misclassified sample, using the Perceptron update rule. This rule adjusts the model weights to minimize the classification error.\n",
        "\n",
        "* **Visualization (Optional)**: If plot_every is set, the visualization of the algorithm's progress is updated at each iteration. This allows visualizing the decision line evolving over time.\n",
        "\n",
        "* **Animation**: An animation is created to visualize the evolution of the separation over the different iterations. Basicly here we have 4.\n",
        "\n",
        "\n",
        "**But I can't run my code because I have a problem with the visualise.py file**"
      ]
    },
    {
      "cell_type": "code",
      "execution_count": 38,
      "metadata": {
        "jukit_cell_id": "Z21oVIabNU"
      },
      "outputs": [
        {
          "ename": "TypeError",
          "evalue": "'module' object is not callable",
          "output_type": "error",
          "traceback": [
            "\u001b[1;31m---------------------------------------------------------------------------\u001b[0m",
            "\u001b[1;31mTypeError\u001b[0m                                 Traceback (most recent call last)",
            "Cell \u001b[1;32mIn[38], line 39\u001b[0m\n\u001b[0;32m     36\u001b[0m data \u001b[38;5;241m=\u001b[39m np\u001b[38;5;241m.\u001b[39mload(\u001b[38;5;124m'\u001b[39m\u001b[38;5;124m./lin_reg.data/pla.npz\u001b[39m\u001b[38;5;124m'\u001b[39m)\n\u001b[0;32m     38\u001b[0m \u001b[38;5;66;03m# Run PLA\u001b[39;00m\n\u001b[1;32m---> 39\u001b[0m w, (ani, fig) \u001b[38;5;241m=\u001b[39m \u001b[43mpla\u001b[49m\u001b[43m(\u001b[49m\u001b[43mdata\u001b[49m\u001b[43m)\u001b[49m\n\u001b[0;32m     41\u001b[0m \u001b[38;5;66;03m# Display the animation\u001b[39;00m\n\u001b[0;32m     42\u001b[0m \u001b[38;5;28;01mfrom\u001b[39;00m \u001b[38;5;21;01mIPython\u001b[39;00m\u001b[38;5;21;01m.\u001b[39;00m\u001b[38;5;21;01mdisplay\u001b[39;00m \u001b[38;5;28;01mimport\u001b[39;00m HTML\n",
            "Cell \u001b[1;32mIn[38], line 21\u001b[0m, in \u001b[0;36mpla\u001b[1;34m(data, plot_every, max_iteration)\u001b[0m\n\u001b[0;32m     19\u001b[0m     w \u001b[38;5;241m+\u001b[39m\u001b[38;5;241m=\u001b[39m Y_train[misclassified_idx] \u001b[38;5;241m*\u001b[39m x_misclassified\n\u001b[0;32m     20\u001b[0m     \u001b[38;5;28;01mif\u001b[39;00m plot_every \u001b[38;5;129;01mand\u001b[39;00m i \u001b[38;5;241m%\u001b[39m plot_every \u001b[38;5;241m==\u001b[39m \u001b[38;5;241m0\u001b[39m:\n\u001b[1;32m---> 21\u001b[0m         _fig, _ax, artists_ \u001b[38;5;241m=\u001b[39m \u001b[43mvisualise\u001b[49m\u001b[43m(\u001b[49m\n\u001b[0;32m     22\u001b[0m \u001b[43m            \u001b[49m\u001b[43mw\u001b[49m\u001b[43m,\u001b[49m\n\u001b[0;32m     23\u001b[0m \u001b[43m            \u001b[49m\u001b[43mX_train\u001b[49m\u001b[43m,\u001b[49m\n\u001b[0;32m     24\u001b[0m \u001b[43m            \u001b[49m\u001b[43mY_train\u001b[49m\u001b[43m,\u001b[49m\n\u001b[0;32m     25\u001b[0m \u001b[43m            \u001b[49m\u001b[43max\u001b[49m\u001b[38;5;241;43m=\u001b[39;49m\u001b[43max\u001b[49m\u001b[43m,\u001b[49m\n\u001b[0;32m     26\u001b[0m \u001b[43m            \u001b[49m\u001b[43manimated\u001b[49m\u001b[38;5;241;43m=\u001b[39;49m\u001b[38;5;28;43;01mTrue\u001b[39;49;00m\u001b[43m,\u001b[49m\n\u001b[0;32m     27\u001b[0m \u001b[43m            \u001b[49m\u001b[43mtitle\u001b[49m\u001b[38;5;241;43m=\u001b[39;49m\u001b[38;5;124;43mf\u001b[39;49m\u001b[38;5;124;43m'\u001b[39;49m\u001b[38;5;124;43mTraining, accuracy: \u001b[39;49m\u001b[38;5;132;43;01m{\u001b[39;49;00m\u001b[43macc\u001b[49m\u001b[38;5;132;43;01m:\u001b[39;49;00m\u001b[38;5;124;43m0.3\u001b[39;49m\u001b[38;5;132;43;01m}\u001b[39;49;00m\u001b[38;5;124;43m'\u001b[39;49m\u001b[43m)\u001b[49m\n\u001b[0;32m     28\u001b[0m         artists\u001b[38;5;241m.\u001b[39mappend(artists_)\n\u001b[0;32m     29\u001b[0m \u001b[38;5;28;01mif\u001b[39;00m plot_every:\n",
            "\u001b[1;31mTypeError\u001b[0m: 'module' object is not callable"
          ]
        },
        {
          "data": {
            "image/png": "[encoded data removed]",
            "text/plain": [
              "<Figure size 640x480 with 1 Axes>"
            ]
          },
          "metadata": {},
          "output_type": "display_data"
        }
      ],
      "source": [
        "def pla(data,\n",
        "        plot_every: Optional[int] = 1,\n",
        "        max_iteration: int = 100) -> tuple[np.ndarray, float] | tuple[np.ndarray, float, list]:\n",
        "    \n",
        "    x, y = data['X'], data['Y']\n",
        "    N, d = x.shape\n",
        "\n",
        "    w = np.random.rand(d + 1)  # Initialize weight vector randomly\n",
        "    if plot_every:\n",
        "        fig, ax = plt.subplots()\n",
        "        artists = []\n",
        "    for i in range(max_iteration):\n",
        "        acc = np.sum(np.sign(x @ w[1:] + w[0]) == y) / N\n",
        "        if acc == 1:\n",
        "            break  # If all points are classified correctly, stop iterating\n",
        "        \n",
        "        # Choose a misclassified sample\n",
        "        misclassified_idx = np.where(np.sign(x @ w[1:] + w[0]) != y)[0][0]\n",
        "        x_misclassified = np.concatenate(([1], x[misclassified_idx]))\n",
        "\n",
        "        # Update the weight vector\n",
        "        w += y[misclassified_idx] * x_misclassified\n",
        "        if plot_every and i % plot_every == 0:\n",
        "            _fig, _ax, artists_ = visualise(\n",
        "                w,\n",
        "                x,\n",
        "                y,\n",
        "                ax=ax,\n",
        "                animated=True,\n",
        "                title=f'Training, accuracy: {acc:0.3}')\n",
        "            artists.append(artists_)\n",
        "    if plot_every:\n",
        "        ani = animation.ArtistAnimation(fig=fig, artists=artists, interval=1000)\n",
        "        return w, (ani, fig)\n",
        "    else:\n",
        "        return w, acc\n",
        "\n",
        "# Load the data\n",
        "data = np.load('./lin_reg.data/pla.npz')\n",
        "\n",
        "# Run PLA\n",
        "w, (ani, fig) = pla(data)\n",
        "\n",
        "# Display the animation\n",
        "from IPython.display import HTML\n",
        "HTML(ani.to_jshtml())"
      ]
    }
  ],
  "metadata": {
    "anaconda-cloud": {},
    "kernelspec": {
      "display_name": "python",
      "language": "python",
      "name": "python3"
    },
    "language_info": {
      "codemirror_mode": {
        "name": "ipython",
        "version": 3
      },
      "file_extension": ".py",
      "mimetype": "text/x-python",
      "name": "python",
      "nbconvert_exporter": "python",
      "pygments_lexer": "ipython3",
      "version": "3.11.8"
    }
  },
  "nbformat": 4,
  "nbformat_minor": 4
}
